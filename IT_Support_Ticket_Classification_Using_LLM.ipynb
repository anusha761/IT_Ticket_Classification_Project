{
  "metadata": {
    "kernelspec": {
      "language": "python",
      "display_name": "Python 3",
      "name": "python3"
    },
    "language_info": {
      "name": "python",
      "version": "3.10.14",
      "mimetype": "text/x-python",
      "codemirror_mode": {
        "name": "ipython",
        "version": 3
      },
      "pygments_lexer": "ipython3",
      "nbconvert_exporter": "python",
      "file_extension": ".py"
    },
    "kaggle": {
      "accelerator": "nvidiaTeslaT4",
      "dataSources": [
        {
          "sourceId": 7650678,
          "sourceType": "datasetVersion",
          "datasetId": 4460055
        }
      ],
      "dockerImageVersionId": 30762,
      "isInternetEnabled": true,
      "language": "python",
      "sourceType": "notebook",
      "isGpuEnabled": true
    },
    "colab": {
      "provenance": [],
      "toc_visible": true
    }
  },
  "nbformat_minor": 0,
  "nbformat": 4,
  "cells": [
    {
      "cell_type": "markdown",
      "source": [
        "# Objective"
      ],
      "metadata": {
        "id": "KgWBR1powXPk"
      }
    },
    {
      "cell_type": "markdown",
      "source": [
        "This project serves as an extension of a previous ticket classification project, which initially employed deep learning models. The goal of this new approach is to apply Llama 3.1, a state-of-the-art large language model (LLM), for improving the ticket classification process. By leveraging the power of LLMs, the aim is to demonstrate how these models can handle complex text data efficiently and at scale. Due to time and resource constraints, only a subset of the full dataset was used. This project highlights the potential of LLMs in real-world applications and showcases the ability to work with advanced AI technologies."
      ],
      "metadata": {
        "id": "pnEg7qWOwRiA"
      }
    },
    {
      "cell_type": "markdown",
      "source": [
        "# Loading Libraries and other Utilities"
      ],
      "metadata": {
        "id": "MOuQ5fGBwe3a"
      }
    },
    {
      "cell_type": "code",
      "source": [
        "%%capture\n",
        "# %pip install -U bitsandbytes\n",
        "# %pip install -U transformers\n",
        "# %pip install -U accelerate\n",
        "# %pip install -U peft\n",
        "%pip install -U trl"
      ],
      "metadata": {
        "trusted": true,
        "execution": {
          "iopub.status.busy": "2025-03-14T17:26:34.841332Z",
          "iopub.execute_input": "2025-03-14T17:26:34.842045Z",
          "iopub.status.idle": "2025-03-14T17:26:44.497453Z",
          "shell.execute_reply.started": "2025-03-14T17:26:34.841997Z",
          "shell.execute_reply": "2025-03-14T17:26:44.496353Z"
        },
        "id": "B__YWHqQn8gP"
      },
      "outputs": [],
      "execution_count": null
    },
    {
      "cell_type": "code",
      "source": [
        "# %%capture\n",
        "# !pip install accelerate==0.27.2\n",
        "# !pip install transformers==4.40.2"
      ],
      "metadata": {
        "trusted": true,
        "id": "cv5FiYyEn8gQ"
      },
      "outputs": [],
      "execution_count": null
    },
    {
      "cell_type": "code",
      "source": [
        "#pip install -U peft transformers accelerate bitsandbytes"
      ],
      "metadata": {
        "trusted": true,
        "id": "xf6VMY60n8gR"
      },
      "outputs": [],
      "execution_count": null
    },
    {
      "cell_type": "code",
      "source": [
        "from peft import LoraConfig, prepare_model_for_kbit_training, get_peft_model\n",
        "import os\n",
        "from tqdm import tqdm\n",
        "import bitsandbytes as bnb\n",
        "import torch\n",
        "import torch.nn as nn\n",
        "import transformers\n",
        "from datasets import Dataset\n",
        "from peft import LoraConfig, PeftConfig\n",
        "from trl import SFTTrainer\n",
        "from trl import setup_chat_format\n",
        "from transformers import (AutoModelForCausalLM,\n",
        "                          AutoTokenizer,\n",
        "                          BitsAndBytesConfig,\n",
        "                          TrainingArguments,\n",
        "                          pipeline,\n",
        "                          logging)\n",
        "\n",
        "# Datasets\n",
        "from datasets import Dataset, DatasetDict\n",
        "\n",
        "# Models\n",
        "from transformers import AutoModel, AutoTokenizer\n",
        "\n",
        "from transformers import AutoModelForSequenceClassification, Trainer, TrainingArguments\n",
        "# Functions\n",
        "from sklearn.metrics import (accuracy_score, precision_score, recall_score,\n",
        "                             f1_score, confusion_matrix, classification_report)\n",
        "\n",
        "#python\n",
        "import pandas as pd\n",
        "import numpy as np\n",
        "import torch\n",
        "import os\n",
        "\n",
        "# plots\n",
        "import matplotlib.pyplot as plt\n",
        "import seaborn as sns\n",
        "\n",
        "\n",
        "\n",
        "device = torch.device(\"cuda\" if torch.cuda.is_available() else \"cpu\")\n",
        "\n",
        "\n",
        "secret_value_0 = os.environ.get(\"HF_TOKEN\")"
      ],
      "metadata": {
        "execution": {
          "iopub.status.busy": "2025-03-14T17:27:14.108825Z",
          "iopub.execute_input": "2025-03-14T17:27:14.109682Z",
          "iopub.status.idle": "2025-03-14T17:27:34.151418Z",
          "shell.execute_reply.started": "2025-03-14T17:27:14.109645Z",
          "shell.execute_reply": "2025-03-14T17:27:34.150527Z"
        },
        "trusted": true,
        "id": "L_4GGoHan8gR"
      },
      "outputs": [],
      "execution_count": null
    },
    {
      "cell_type": "code",
      "source": [
        "\n",
        "\n",
        "\n",
        "MODEL = \"meta-llama/Meta-Llama-3.1-8B-Instruct\"\n",
        "\n",
        "\n",
        "# Lora R, rank of matrices. Lower values result in smaller matrices. Hence, less values to update\n",
        "LORA_R = 16\n",
        "# Lora Alpha is a scale of weight matrices. the weight matrices are scaled by LORA_R/LORA_ALPHA ( 16 )\n",
        "LORA_ALPHA = 16\n",
        "# Dropout probabilities for lora layers\n",
        "LORA_DROPOUT = 0.05\n",
        "# Parameters to specify if the bias should be trainable\n",
        "LORA_BIAS = 'none'"
      ],
      "metadata": {
        "execution": {
          "iopub.status.busy": "2025-03-14T17:28:26.832244Z",
          "iopub.execute_input": "2025-03-14T17:28:26.833151Z",
          "iopub.status.idle": "2025-03-14T17:28:26.837298Z",
          "shell.execute_reply.started": "2025-03-14T17:28:26.833112Z",
          "shell.execute_reply": "2025-03-14T17:28:26.836467Z"
        },
        "trusted": true,
        "id": "9z1eSSXon8gR"
      },
      "outputs": [],
      "execution_count": null
    },
    {
      "cell_type": "markdown",
      "source": [
        "# Loading Data"
      ],
      "metadata": {
        "id": "BQNf68Kjn8gR"
      }
    },
    {
      "cell_type": "code",
      "source": [
        "# Loading Dataset\n",
        "data = pd.read_csv('IT_Support_Tickets.csv')\n",
        "\n",
        "data.dropna(how='all',inplace=True)\n",
        "data.drop_duplicates(inplace=True)\n",
        "data.shape"
      ],
      "metadata": {
        "execution": {
          "iopub.status.busy": "2025-03-14T17:28:30.726991Z",
          "iopub.execute_input": "2025-03-14T17:28:30.727338Z",
          "iopub.status.idle": "2025-03-14T17:28:31.117714Z",
          "shell.execute_reply.started": "2025-03-14T17:28:30.727310Z",
          "shell.execute_reply": "2025-03-14T17:28:31.116702Z"
        },
        "trusted": true,
        "id": "9328hH7Pn8gS",
        "outputId": "2db25e53-f5d2-4579-fa2e-33bf83b02bc7"
      },
      "outputs": [
        {
          "execution_count": 5,
          "output_type": "execute_result",
          "data": {
            "text/plain": "(31657, 2)"
          },
          "metadata": {}
        }
      ],
      "execution_count": null
    },
    {
      "cell_type": "code",
      "source": [
        "# due to resource constraints a portion of the data will be considered.\n",
        "data = data.sample(int( 0.24*(data.shape[0])))"
      ],
      "metadata": {
        "trusted": true,
        "execution": {
          "iopub.status.busy": "2025-03-14T17:28:34.954957Z",
          "iopub.execute_input": "2025-03-14T17:28:34.955552Z",
          "iopub.status.idle": "2025-03-14T17:28:34.964810Z",
          "shell.execute_reply.started": "2025-03-14T17:28:34.955518Z",
          "shell.execute_reply": "2025-03-14T17:28:34.963926Z"
        },
        "id": "TJJ3xOm4n8gS"
      },
      "outputs": [],
      "execution_count": null
    },
    {
      "cell_type": "markdown",
      "source": [
        "# Dataset creation"
      ],
      "metadata": {
        "id": "TWSgfAiZn8gS"
      }
    },
    {
      "cell_type": "code",
      "source": [
        "data.info()"
      ],
      "metadata": {
        "trusted": true,
        "execution": {
          "iopub.status.busy": "2025-03-14T17:29:03.400421Z",
          "iopub.execute_input": "2025-03-14T17:29:03.401081Z",
          "iopub.status.idle": "2025-03-14T17:29:03.416730Z",
          "shell.execute_reply.started": "2025-03-14T17:29:03.401050Z",
          "shell.execute_reply": "2025-03-14T17:29:03.415820Z"
        },
        "id": "Hwt4hI_pn8gT",
        "outputId": "0564c5fc-7db8-4381-cb87-eba6c118704a"
      },
      "outputs": [
        {
          "name": "stdout",
          "text": "<class 'pandas.core.frame.DataFrame'>\nIndex: 7597 entries, 34948 to 3299\nData columns (total 2 columns):\n #   Column             Non-Null Count  Dtype \n---  ------             --------------  ----- \n 0   Issue_Description  7597 non-null   object\n 1   Category           7597 non-null   object\ndtypes: object(2)\nmemory usage: 178.1+ KB\n",
          "output_type": "stream"
        }
      ],
      "execution_count": null
    },
    {
      "cell_type": "code",
      "source": [
        "data['Category'].value_counts()"
      ],
      "metadata": {
        "trusted": true,
        "execution": {
          "iopub.status.busy": "2025-03-14T17:29:07.181268Z",
          "iopub.execute_input": "2025-03-14T17:29:07.181938Z",
          "iopub.status.idle": "2025-03-14T17:29:07.191302Z",
          "shell.execute_reply.started": "2025-03-14T17:29:07.181901Z",
          "shell.execute_reply": "2025-03-14T17:29:07.190390Z"
        },
        "id": "5MH_wbZxn8gT",
        "outputId": "c15a8923-c9c3-4361-9495-e2a0fe1ea138"
      },
      "outputs": [
        {
          "execution_count": 11,
          "output_type": "execute_result",
          "data": {
            "text/plain": "Category\nHardware      3361\nHR Support    2567\nAccess        1669\nName: count, dtype: int64"
          },
          "metadata": {}
        }
      ],
      "execution_count": null
    },
    {
      "cell_type": "code",
      "source": [
        "# Encoding labels\n",
        "data.replace({'Category':{\"Hardware\":0,\n",
        "               \"Access\":1,\n",
        "               \"HR Support\":2}},inplace=True)\n",
        "\n",
        "\n",
        "# Transforming to Dataset class\n",
        "dfh = Dataset.from_dict({\n",
        "    \"desc\": data['Issue_Description'],\n",
        "    \"labels\": data['Category']})\n",
        "\n",
        "# Spliting into train/validation sets\n",
        "dfh = dfh.train_test_split(test_size=0.2,shuffle = True )\n",
        "\n",
        "dfx  = DatasetDict({\n",
        "    'train': dfh['train'],\n",
        "    'valid': dfh['test']\n",
        "})"
      ],
      "metadata": {
        "trusted": true,
        "execution": {
          "iopub.status.busy": "2025-03-14T17:29:15.277431Z",
          "iopub.execute_input": "2025-03-14T17:29:15.277927Z",
          "iopub.status.idle": "2025-03-14T17:29:15.343628Z",
          "shell.execute_reply.started": "2025-03-14T17:29:15.277871Z",
          "shell.execute_reply": "2025-03-14T17:29:15.343000Z"
        },
        "id": "n7kZS78Tn8gT"
      },
      "outputs": [],
      "execution_count": null
    },
    {
      "cell_type": "markdown",
      "source": [
        "# Visualizations"
      ],
      "metadata": {
        "id": "zv-px6u6n8gT"
      }
    },
    {
      "cell_type": "code",
      "source": [
        "dfx.set_format(type = 'pandas')\n",
        "df = dfx['train'][:]"
      ],
      "metadata": {
        "trusted": true,
        "execution": {
          "iopub.status.busy": "2025-03-14T17:29:17.603714Z",
          "iopub.execute_input": "2025-03-14T17:29:17.604412Z",
          "iopub.status.idle": "2025-03-14T17:29:17.639898Z",
          "shell.execute_reply.started": "2025-03-14T17:29:17.604372Z",
          "shell.execute_reply": "2025-03-14T17:29:17.639334Z"
        },
        "id": "VpFiOxkEn8gU"
      },
      "outputs": [],
      "execution_count": null
    },
    {
      "cell_type": "code",
      "source": [
        "df.columns"
      ],
      "metadata": {
        "trusted": true,
        "execution": {
          "iopub.status.busy": "2025-03-14T17:29:19.630078Z",
          "iopub.execute_input": "2025-03-14T17:29:19.630996Z",
          "iopub.status.idle": "2025-03-14T17:29:19.637140Z",
          "shell.execute_reply.started": "2025-03-14T17:29:19.630960Z",
          "shell.execute_reply": "2025-03-14T17:29:19.636138Z"
        },
        "id": "2jjdIYQEn8gU",
        "outputId": "0b86594f-77a7-415a-9ad1-679ed93933c3"
      },
      "outputs": [
        {
          "execution_count": 15,
          "output_type": "execute_result",
          "data": {
            "text/plain": "Index(['desc', 'labels'], dtype='object')"
          },
          "metadata": {}
        }
      ],
      "execution_count": null
    },
    {
      "cell_type": "code",
      "source": [
        "df.replace({'labels':{0:\"Hardware\",\n",
        "               1:\"Access\",\n",
        "               2:\"HR Support\"}},inplace=True)"
      ],
      "metadata": {
        "trusted": true,
        "execution": {
          "iopub.status.busy": "2025-03-14T17:30:02.297370Z",
          "iopub.execute_input": "2025-03-14T17:30:02.298029Z",
          "iopub.status.idle": "2025-03-14T17:30:02.304299Z",
          "shell.execute_reply.started": "2025-03-14T17:30:02.297998Z",
          "shell.execute_reply": "2025-03-14T17:30:02.303372Z"
        },
        "id": "cqu1wziDn8gU"
      },
      "outputs": [],
      "execution_count": null
    },
    {
      "cell_type": "code",
      "source": [
        "char_len=[len(x) for x in df['desc']]\n",
        "plt.figure(figsize=[5,3])\n",
        "sns.histplot(data = char_len)\n",
        "plt.title('Distribution of Issue Character Length')\n",
        "plt.xlabel('Issue Character Length')\n",
        "plt.ylabel('No. of Issues')"
      ],
      "metadata": {
        "trusted": true,
        "execution": {
          "iopub.status.busy": "2025-03-14T17:29:23.166384Z",
          "iopub.execute_input": "2025-03-14T17:29:23.167068Z",
          "iopub.status.idle": "2025-03-14T17:29:23.882786Z",
          "shell.execute_reply.started": "2025-03-14T17:29:23.167035Z",
          "shell.execute_reply": "2025-03-14T17:29:23.881950Z"
        },
        "id": "iYWQpEz-n8gU",
        "outputId": "19d3b6ec-293c-4abc-aecf-1453ff4bcb07"
      },
      "outputs": [
        {
          "name": "stderr",
          "text": "/opt/conda/lib/python3.10/site-packages/seaborn/_oldcore.py:1119: FutureWarning: use_inf_as_na option is deprecated and will be removed in a future version. Convert inf values to NaN before operating instead.\n  with pd.option_context('mode.use_inf_as_na', True):\n",
          "output_type": "stream"
        },
        {
          "execution_count": 17,
          "output_type": "execute_result",
          "data": {
            "text/plain": "Text(0, 0.5, 'No. of Issues')"
          },
          "metadata": {}
        },
        {
          "output_type": "display_data",
          "data": {
            "text/plain": "<Figure size 500x300 with 1 Axes>",
            "image/png": "[encoded data removed]"
          },
          "metadata": {}
        }
      ],
      "execution_count": null
    },
    {
      "cell_type": "code",
      "source": [
        "import seaborn as sns\n",
        "df['size'] = (df['desc'].apply(len))\n",
        "sns.boxplot(data = df, x = 'labels', y = 'size')"
      ],
      "metadata": {
        "trusted": true,
        "execution": {
          "iopub.status.busy": "2025-03-14T17:30:14.557644Z",
          "iopub.execute_input": "2025-03-14T17:30:14.558559Z",
          "iopub.status.idle": "2025-03-14T17:30:14.810803Z",
          "shell.execute_reply.started": "2025-03-14T17:30:14.558519Z",
          "shell.execute_reply": "2025-03-14T17:30:14.809937Z"
        },
        "id": "YEaCxhNun8gU",
        "outputId": "3fccd5be-f848-4adf-815e-370101f13c92"
      },
      "outputs": [
        {
          "execution_count": 21,
          "output_type": "execute_result",
          "data": {
            "text/plain": "<Axes: xlabel='labels', ylabel='size'>"
          },
          "metadata": {}
        },
        {
          "output_type": "display_data",
          "data": {
            "text/plain": "<Figure size 640x480 with 1 Axes>",
            "image/png": "[encoded data removed]"
          },
          "metadata": {}
        }
      ],
      "execution_count": null
    },
    {
      "cell_type": "code",
      "source": [
        "dfx.reset_format()"
      ],
      "metadata": {
        "trusted": true,
        "execution": {
          "iopub.status.busy": "2025-03-14T17:30:21.682153Z",
          "iopub.execute_input": "2025-03-14T17:30:21.682815Z",
          "iopub.status.idle": "2025-03-14T17:30:21.686901Z",
          "shell.execute_reply.started": "2025-03-14T17:30:21.682784Z",
          "shell.execute_reply": "2025-03-14T17:30:21.686090Z"
        },
        "id": "vkM7aCGRn8gU"
      },
      "outputs": [],
      "execution_count": null
    },
    {
      "cell_type": "markdown",
      "source": [
        "# Loading Model"
      ],
      "metadata": {
        "id": "LiCNZPNjn8gU"
      }
    },
    {
      "cell_type": "code",
      "source": [
        "# bits and byts config,\n",
        "bnb_config = BitsAndBytesConfig(\n",
        "    load_in_4bit=True,\n",
        "    bnb_4bit_use_double_quant=False,\n",
        "    bnb_4bit_quant_type=\"nf4\",\n",
        "    bnb_4bit_compute_dtype=\"float16\",\n",
        ")"
      ],
      "metadata": {
        "execution": {
          "iopub.status.busy": "2025-03-14T17:31:49.495489Z",
          "iopub.execute_input": "2025-03-14T17:31:49.496312Z",
          "iopub.status.idle": "2025-03-14T17:31:49.502037Z",
          "shell.execute_reply.started": "2025-03-14T17:31:49.496277Z",
          "shell.execute_reply": "2025-03-14T17:31:49.501186Z"
        },
        "trusted": true,
        "id": "3E4aNs8Jn8gU"
      },
      "outputs": [],
      "execution_count": null
    },
    {
      "cell_type": "code",
      "source": [
        "# Load model from pretrained\n",
        "model =  AutoModelForSequenceClassification.from_pretrained(\n",
        "    MODEL,\n",
        "    device_map=\"auto\",\n",
        "    torch_dtype=\"float16\",\n",
        "    quantization_config=bnb_config,\n",
        "    token = secret_value_0,\n",
        "    num_labels = 3\n",
        ")\n"
      ],
      "metadata": {
        "trusted": true,
        "execution": {
          "iopub.status.busy": "2025-03-14T17:31:50.893360Z",
          "iopub.execute_input": "2025-03-14T17:31:50.893704Z",
          "iopub.status.idle": "2025-03-14T17:34:04.205114Z",
          "shell.execute_reply.started": "2025-03-14T17:31:50.893674Z",
          "shell.execute_reply": "2025-03-14T17:34:04.204047Z"
        },
        "colab": {
          "referenced_widgets": [
            "5bd7b43bb3a3448f80f1e37e234d2871",
            "feec61d1b42d4edbbebee62a0129941d",
            "25e627dbb56149c194003e560bc35749",
            "b48aad0e9f20405ebbdd4bb161af97b0",
            "29150e4ca84943d682a2572936fc53d9",
            "ad7fc073709948cead3fbad57db22147",
            "221d7b2464fe400289b454e993517dcb",
            "530b80e2daa94f7793510c0e6f824a7e"
          ]
        },
        "id": "IKTCEWo3n8gU",
        "outputId": "1386863c-61d0-4e18-89f8-ad7d4627bbb4"
      },
      "outputs": [
        {
          "output_type": "display_data",
          "data": {
            "text/plain": "config.json:   0%|          | 0.00/855 [00:00<?, ?B/s]",
            "application/vnd.jupyter.widget-view+json": {
              "version_major": 2,
              "version_minor": 0,
              "model_id": "5bd7b43bb3a3448f80f1e37e234d2871"
            }
          },
          "metadata": {}
        },
        {
          "output_type": "display_data",
          "data": {
            "text/plain": "model.safetensors.index.json:   0%|          | 0.00/23.9k [00:00<?, ?B/s]",
            "application/vnd.jupyter.widget-view+json": {
              "version_major": 2,
              "version_minor": 0,
              "model_id": "feec61d1b42d4edbbebee62a0129941d"
            }
          },
          "metadata": {}
        },
        {
          "output_type": "display_data",
          "data": {
            "text/plain": "Downloading shards:   0%|          | 0/4 [00:00<?, ?it/s]",
            "application/vnd.jupyter.widget-view+json": {
              "version_major": 2,
              "version_minor": 0,
              "model_id": "25e627dbb56149c194003e560bc35749"
            }
          },
          "metadata": {}
        },
        {
          "output_type": "display_data",
          "data": {
            "text/plain": "model-00001-of-00004.safetensors:   0%|          | 0.00/4.98G [00:00<?, ?B/s]",
            "application/vnd.jupyter.widget-view+json": {
              "version_major": 2,
              "version_minor": 0,
              "model_id": "b48aad0e9f20405ebbdd4bb161af97b0"
            }
          },
          "metadata": {}
        },
        {
          "output_type": "display_data",
          "data": {
            "text/plain": "model-00002-of-00004.safetensors:   0%|          | 0.00/5.00G [00:00<?, ?B/s]",
            "application/vnd.jupyter.widget-view+json": {
              "version_major": 2,
              "version_minor": 0,
              "model_id": "29150e4ca84943d682a2572936fc53d9"
            }
          },
          "metadata": {}
        },
        {
          "output_type": "display_data",
          "data": {
            "text/plain": "model-00003-of-00004.safetensors:   0%|          | 0.00/4.92G [00:00<?, ?B/s]",
            "application/vnd.jupyter.widget-view+json": {
              "version_major": 2,
              "version_minor": 0,
              "model_id": "ad7fc073709948cead3fbad57db22147"
            }
          },
          "metadata": {}
        },
        {
          "output_type": "display_data",
          "data": {
            "text/plain": "model-00004-of-00004.safetensors:   0%|          | 0.00/1.17G [00:00<?, ?B/s]",
            "application/vnd.jupyter.widget-view+json": {
              "version_major": 2,
              "version_minor": 0,
              "model_id": "221d7b2464fe400289b454e993517dcb"
            }
          },
          "metadata": {}
        },
        {
          "output_type": "display_data",
          "data": {
            "text/plain": "Loading checkpoint shards:   0%|          | 0/4 [00:00<?, ?it/s]",
            "application/vnd.jupyter.widget-view+json": {
              "version_major": 2,
              "version_minor": 0,
              "model_id": "530b80e2daa94f7793510c0e6f824a7e"
            }
          },
          "metadata": {}
        },
        {
          "name": "stderr",
          "text": "Some weights of LlamaForSequenceClassification were not initialized from the model checkpoint at meta-llama/Meta-Llama-3.1-8B-Instruct and are newly initialized: ['score.weight']\nYou should probably TRAIN this model on a down-stream task to be able to use it for predictions and inference.\n",
          "output_type": "stream"
        }
      ],
      "execution_count": null
    },
    {
      "cell_type": "code",
      "source": [
        "print(model)"
      ],
      "metadata": {
        "trusted": true,
        "execution": {
          "iopub.status.busy": "2025-03-14T17:34:58.981156Z",
          "iopub.execute_input": "2025-03-14T17:34:58.981539Z",
          "iopub.status.idle": "2025-03-14T17:34:58.988666Z",
          "shell.execute_reply.started": "2025-03-14T17:34:58.981507Z",
          "shell.execute_reply": "2025-03-14T17:34:58.987743Z"
        },
        "id": "urZiEAgMn8gV",
        "outputId": "d1522e36-7241-4c98-ac46-61bd54c111e9"
      },
      "outputs": [
        {
          "name": "stdout",
          "text": "LlamaForSequenceClassification(\n  (model): LlamaModel(\n    (embed_tokens): Embedding(128256, 4096)\n    (layers): ModuleList(\n      (0-31): 32 x LlamaDecoderLayer(\n        (self_attn): LlamaAttention(\n          (q_proj): Linear4bit(in_features=4096, out_features=4096, bias=False)\n          (k_proj): Linear4bit(in_features=4096, out_features=1024, bias=False)\n          (v_proj): Linear4bit(in_features=4096, out_features=1024, bias=False)\n          (o_proj): Linear4bit(in_features=4096, out_features=4096, bias=False)\n        )\n        (mlp): LlamaMLP(\n          (gate_proj): Linear4bit(in_features=4096, out_features=14336, bias=False)\n          (up_proj): Linear4bit(in_features=4096, out_features=14336, bias=False)\n          (down_proj): Linear4bit(in_features=14336, out_features=4096, bias=False)\n          (act_fn): SiLU()\n        )\n        (input_layernorm): LlamaRMSNorm((4096,), eps=1e-05)\n        (post_attention_layernorm): LlamaRMSNorm((4096,), eps=1e-05)\n      )\n    )\n    (norm): LlamaRMSNorm((4096,), eps=1e-05)\n    (rotary_emb): LlamaRotaryEmbedding()\n  )\n  (score): Linear(in_features=4096, out_features=3, bias=False)\n)\n",
          "output_type": "stream"
        }
      ],
      "execution_count": null
    },
    {
      "cell_type": "code",
      "source": [
        "\n",
        "# Load Tokenizer\n",
        "tokenizer = AutoTokenizer.from_pretrained(MODEL,token = secret_value_0)\n",
        "tokenizer.pad_token_id = tokenizer.eos_token_id\n",
        "tokenizer.pad_token = tokenizer.eos_token\n",
        "\n",
        "\n",
        "model.config.pad_token_id = tokenizer.pad_token_id\n",
        "model.config.use_cache = False\n",
        "model.config.pretraining_tp = 1"
      ],
      "metadata": {
        "trusted": true,
        "execution": {
          "iopub.status.busy": "2025-03-14T17:35:06.008400Z",
          "iopub.execute_input": "2025-03-14T17:35:06.008775Z",
          "iopub.status.idle": "2025-03-14T17:35:07.742636Z",
          "shell.execute_reply.started": "2025-03-14T17:35:06.008744Z",
          "shell.execute_reply": "2025-03-14T17:35:07.741643Z"
        },
        "colab": {
          "referenced_widgets": [
            "7b2aa1ddd7c04244a59917b63d065ab9",
            "ffcdc8e3e33648dcb2e245e2333a64d5",
            "595714bc16fd4fcdaaedbdabb4b1c79f"
          ]
        },
        "id": "Lnkuqanpn8gV",
        "outputId": "398ea861-7c3d-478d-f35c-ec7a4cbee03a"
      },
      "outputs": [
        {
          "output_type": "display_data",
          "data": {
            "text/plain": "tokenizer_config.json:   0%|          | 0.00/55.4k [00:00<?, ?B/s]",
            "application/vnd.jupyter.widget-view+json": {
              "version_major": 2,
              "version_minor": 0,
              "model_id": "7b2aa1ddd7c04244a59917b63d065ab9"
            }
          },
          "metadata": {}
        },
        {
          "output_type": "display_data",
          "data": {
            "text/plain": "tokenizer.json:   0%|          | 0.00/9.09M [00:00<?, ?B/s]",
            "application/vnd.jupyter.widget-view+json": {
              "version_major": 2,
              "version_minor": 0,
              "model_id": "ffcdc8e3e33648dcb2e245e2333a64d5"
            }
          },
          "metadata": {}
        },
        {
          "output_type": "display_data",
          "data": {
            "text/plain": "special_tokens_map.json:   0%|          | 0.00/296 [00:00<?, ?B/s]",
            "application/vnd.jupyter.widget-view+json": {
              "version_major": 2,
              "version_minor": 0,
              "model_id": "595714bc16fd4fcdaaedbdabb4b1c79f"
            }
          },
          "metadata": {}
        }
      ],
      "execution_count": null
    },
    {
      "cell_type": "markdown",
      "source": [
        "# Tokenizing"
      ],
      "metadata": {
        "id": "oePYhVBRn8gV"
      }
    },
    {
      "cell_type": "code",
      "source": [
        "def preprocessor_tokenizer(examples):\n",
        "    return tokenizer(examples['desc'], truncation=True, max_length=512)\n",
        "\n",
        "tokenized_datasets = dfx.map(preprocessor_tokenizer, batched=True)\n",
        "tokenized_datasets.set_format(\"torch\")"
      ],
      "metadata": {
        "execution": {
          "iopub.status.busy": "2025-03-14T17:35:18.760346Z",
          "iopub.execute_input": "2025-03-14T17:35:18.760953Z",
          "iopub.status.idle": "2025-03-14T17:35:19.810794Z",
          "shell.execute_reply.started": "2025-03-14T17:35:18.760908Z",
          "shell.execute_reply": "2025-03-14T17:35:19.809927Z"
        },
        "trusted": true,
        "colab": {
          "referenced_widgets": [
            "02f6d65b0e8b43d186f1129e77bcdceb",
            "afdbe4a599f74bc09c7ee98eb2a15ce4"
          ]
        },
        "id": "AAKbWRT8n8gV",
        "outputId": "4485adff-f2c9-4e01-cae3-6eaf60e77907"
      },
      "outputs": [
        {
          "output_type": "display_data",
          "data": {
            "text/plain": "Map:   0%|          | 0/6077 [00:00<?, ? examples/s]",
            "application/vnd.jupyter.widget-view+json": {
              "version_major": 2,
              "version_minor": 0,
              "model_id": "02f6d65b0e8b43d186f1129e77bcdceb"
            }
          },
          "metadata": {}
        },
        {
          "output_type": "display_data",
          "data": {
            "text/plain": "Map:   0%|          | 0/1520 [00:00<?, ? examples/s]",
            "application/vnd.jupyter.widget-view+json": {
              "version_major": 2,
              "version_minor": 0,
              "model_id": "afdbe4a599f74bc09c7ee98eb2a15ce4"
            }
          },
          "metadata": {}
        }
      ],
      "execution_count": null
    },
    {
      "cell_type": "code",
      "source": [
        "tokenized_datasets"
      ],
      "metadata": {
        "trusted": true,
        "execution": {
          "iopub.status.busy": "2025-03-14T17:35:28.558321Z",
          "iopub.execute_input": "2025-03-14T17:35:28.558722Z",
          "iopub.status.idle": "2025-03-14T17:35:28.565344Z",
          "shell.execute_reply.started": "2025-03-14T17:35:28.558687Z",
          "shell.execute_reply": "2025-03-14T17:35:28.564362Z"
        },
        "id": "L9bD_9v3n8gV",
        "outputId": "ef75eb64-e769-4952-c497-6da09b5a7190"
      },
      "outputs": [
        {
          "execution_count": 30,
          "output_type": "execute_result",
          "data": {
            "text/plain": "DatasetDict({\n    train: Dataset({\n        features: ['desc', 'labels', 'input_ids', 'attention_mask'],\n        num_rows: 6077\n    })\n    valid: Dataset({\n        features: ['desc', 'labels', 'input_ids', 'attention_mask'],\n        num_rows: 1520\n    })\n})"
          },
          "metadata": {}
        }
      ],
      "execution_count": null
    },
    {
      "cell_type": "markdown",
      "source": [
        "# Model Training and Evaluation"
      ],
      "metadata": {
        "id": "dFe6mN5Vn8gV"
      }
    },
    {
      "cell_type": "code",
      "source": [
        "def compute_metrics(pred):\n",
        "    labels = pred.label_ids\n",
        "    preds = pred.predictions.argmax(-1)\n",
        "    f1 = f1_score(labels, preds, average=\"weighted\")\n",
        "    acc = accuracy_score(labels, preds)\n",
        "    return {\"accuracy\": acc, \"f1\": f1}"
      ],
      "metadata": {
        "id": "Yon-sTffpSgg"
      },
      "execution_count": null,
      "outputs": []
    },
    {
      "cell_type": "code",
      "source": [
        "y_true = dfx['valid']['labels']\n",
        "y_train_true = dfx['train']['labels']"
      ],
      "metadata": {
        "trusted": true,
        "execution": {
          "iopub.status.busy": "2025-03-14T17:35:34.152827Z",
          "iopub.execute_input": "2025-03-14T17:35:34.153219Z",
          "iopub.status.idle": "2025-03-14T17:35:34.189597Z",
          "shell.execute_reply.started": "2025-03-14T17:35:34.153189Z",
          "shell.execute_reply": "2025-03-14T17:35:34.188730Z"
        },
        "id": "JqskOyxcn8gV"
      },
      "outputs": [],
      "execution_count": null
    },
    {
      "cell_type": "code",
      "source": [
        "lora_config = LoraConfig(\n",
        "    r = LORA_R,\n",
        "    lora_alpha = LORA_ALPHA,\n",
        "    target_modules = ['q_proj', 'k_proj', 'v_proj','o_proj'],\n",
        "    lora_dropout = LORA_DROPOUT,\n",
        "    bias = LORA_BIAS,\n",
        "    task_type = 'SEQ_CLS'\n",
        ")\n",
        "\n",
        "\n",
        "bnb_config = BitsAndBytesConfig(\n",
        "    load_in_4bit = True, # enable 4-bit quantization\n",
        "    bnb_4bit_quant_type = 'nf4', # information theoretically optimal dtype for normally distributed weights\n",
        "    bnb_4bit_use_double_quant = True, # quantize quantized weights\n",
        "    bnb_4bit_compute_dtype = torch.bfloat16 # optimized fp format for ML\n",
        ")\n",
        "\n",
        "model = prepare_model_for_kbit_training(model)\n",
        "model = get_peft_model(model, lora_config)"
      ],
      "metadata": {
        "execution": {
          "iopub.status.busy": "2025-03-14T17:35:39.465264Z",
          "iopub.execute_input": "2025-03-14T17:35:39.466035Z",
          "iopub.status.idle": "2025-03-14T17:35:39.823603Z",
          "shell.execute_reply.started": "2025-03-14T17:35:39.466001Z",
          "shell.execute_reply": "2025-03-14T17:35:39.822526Z"
        },
        "trusted": true,
        "id": "5o2tVFV8n8gV"
      },
      "outputs": [],
      "execution_count": null
    },
    {
      "cell_type": "code",
      "source": [
        "model.print_trainable_parameters()"
      ],
      "metadata": {
        "execution": {
          "iopub.status.busy": "2025-03-14T17:35:43.173644Z",
          "iopub.execute_input": "2025-03-14T17:35:43.174272Z",
          "iopub.status.idle": "2025-03-14T17:35:43.184214Z",
          "shell.execute_reply.started": "2025-03-14T17:35:43.174238Z",
          "shell.execute_reply": "2025-03-14T17:35:43.183372Z"
        },
        "trusted": true,
        "id": "fvrZmXaQn8gW",
        "outputId": "364444c8-60fc-4e50-ab63-66f198d0bd5a"
      },
      "outputs": [
        {
          "name": "stdout",
          "text": "trainable params: 13,643,776 || all params: 7,518,580,736 || trainable%: 0.1815\n",
          "output_type": "stream"
        }
      ],
      "execution_count": null
    },
    {
      "cell_type": "code",
      "source": [
        "\n",
        "training_args = TrainingArguments(\n",
        "    output_dir = 'finetuning_llama3',\n",
        "    learning_rate = 1e-4,\n",
        "    per_device_train_batch_size = 8,\n",
        "    per_device_eval_batch_size = 8,\n",
        "    num_train_epochs = 1,\n",
        "    weight_decay = 0.01,\n",
        "    evaluation_strategy = 'epoch',\n",
        "    save_strategy = 'epoch',\n",
        "    load_best_model_at_end = True,\n",
        "    push_to_hub=False,\n",
        "    report_to = 'none'\n",
        ")"
      ],
      "metadata": {
        "execution": {
          "iopub.status.busy": "2025-03-14T17:35:50.248168Z",
          "iopub.execute_input": "2025-03-14T17:35:50.248900Z",
          "iopub.status.idle": "2025-03-14T17:35:50.287870Z",
          "shell.execute_reply.started": "2025-03-14T17:35:50.248851Z",
          "shell.execute_reply": "2025-03-14T17:35:50.286913Z"
        },
        "trusted": true,
        "id": "zadMteCRn8ge",
        "outputId": "91224b95-bd53-48b0-ebe9-e304bfa995d3"
      },
      "outputs": [
        {
          "name": "stderr",
          "text": "/opt/conda/lib/python3.10/site-packages/transformers/training_args.py:1594: FutureWarning: `evaluation_strategy` is deprecated and will be removed in version 4.46 of 🤗 Transformers. Use `eval_strategy` instead\n  warnings.warn(\n",
          "output_type": "stream"
        }
      ],
      "execution_count": null
    },
    {
      "cell_type": "code",
      "source": [
        "trainer = Trainer(\n",
        "    model = model,\n",
        "    args = training_args,\n",
        "    train_dataset = tokenized_datasets['train'],\n",
        "    eval_dataset = tokenized_datasets['valid'],\n",
        "    tokenizer = tokenizer,\n",
        "    compute_metrics = compute_metrics,\n",
        ")"
      ],
      "metadata": {
        "execution": {
          "iopub.status.busy": "2025-03-14T17:35:55.222281Z",
          "iopub.execute_input": "2025-03-14T17:35:55.222600Z",
          "iopub.status.idle": "2025-03-14T17:35:55.426611Z",
          "shell.execute_reply.started": "2025-03-14T17:35:55.222573Z",
          "shell.execute_reply": "2025-03-14T17:35:55.425792Z"
        },
        "trusted": true,
        "id": "4YP3I3Zhn8ge",
        "outputId": "9e6165bc-7477-4617-e772-43eafc7f2a48"
      },
      "outputs": [
        {
          "name": "stderr",
          "text": "/tmp/ipykernel_96/3431620629.py:1: FutureWarning: `tokenizer` is deprecated and will be removed in version 5.0.0 for `Trainer.__init__`. Use `processing_class` instead.\n  trainer = Trainer(\nNo label_names provided for model class `PeftModelForSequenceClassification`. Since `PeftModel` hides base models input arguments, if label_names is not given, label_names can't be set automatically within `Trainer`. Note that empty label_names list will be used instead.\n",
          "output_type": "stream"
        }
      ],
      "execution_count": null
    },
    {
      "cell_type": "code",
      "source": [
        "trainer_output = trainer.train()\n",
        "trainer_output.metrics"
      ],
      "metadata": {
        "trusted": true,
        "execution": {
          "iopub.status.busy": "2025-03-14T17:36:03.288127Z",
          "iopub.execute_input": "2025-03-14T17:36:03.288501Z",
          "iopub.status.idle": "2025-03-14T21:15:00.297903Z",
          "shell.execute_reply.started": "2025-03-14T17:36:03.288469Z",
          "shell.execute_reply": "2025-03-14T21:15:00.296906Z"
        },
        "id": "GhL4zynln8gf",
        "outputId": "c13e45bf-9dd1-4f55-876d-36b24f663140"
      },
      "outputs": [
        {
          "name": "stderr",
          "text": "/opt/conda/lib/python3.10/site-packages/torch/_dynamo/eval_frame.py:600: UserWarning: torch.utils.checkpoint: the use_reentrant parameter should be passed explicitly. In version 2.4 we will raise an exception if use_reentrant is not passed. use_reentrant=False is recommended, but if you need to preserve the current default behavior, you can pass use_reentrant=True. Refer to docs for more details on the differences between the two variants.\n  return fn(*args, **kwargs)\n/opt/conda/lib/python3.10/site-packages/torch/utils/checkpoint.py:295: FutureWarning: `torch.cpu.amp.autocast(args...)` is deprecated. Please use `torch.amp.autocast('cpu', args...)` instead.\n  with torch.enable_grad(), device_autocast_ctx, torch.cpu.amp.autocast(**ctx.cpu_autocast_kwargs):  # type: ignore[attr-defined]\n",
          "output_type": "stream"
        },
        {
          "output_type": "display_data",
          "data": {
            "text/plain": "<IPython.core.display.HTML object>",
            "text/html": "\n    <div>\n      \n      <progress value='760' max='760' style='width:300px; height:20px; vertical-align: middle;'></progress>\n      [760/760 3:38:47, Epoch 1/1]\n    </div>\n    <table border=\"1\" class=\"dataframe\">\n  <thead>\n <tr style=\"text-align: left;\">\n      <th>Epoch</th>\n      <th>Training Loss</th>\n      <th>Validation Loss</th>\n      <th>Accuracy</th>\n      <th>F1</th>\n    </tr>\n  </thead>\n  <tbody>\n    <tr>\n      <td>1</td>\n      <td>0.600900</td>\n      <td>0.298940</td>\n      <td>0.894737</td>\n      <td>0.894622</td>\n    </tr>\n  </tbody>\n</table><p>"
          },
          "metadata": {}
        },
        {
          "name": "stderr",
          "text": "/opt/conda/lib/python3.10/site-packages/peft/utils/other.py:716: UserWarning: Unable to fetch remote file due to the following error 401 Client Error. (Request ID: Root=1-67d49828-7ba5950b5cfa3e991babad07;a211a695-9d73-40ae-8ba3-608594013c41)\n\nCannot access gated repo for url https://huggingface.co/meta-llama/Meta-Llama-3.1-8B-Instruct/resolve/main/config.json.\nAccess to model meta-llama/Llama-3.1-8B-Instruct is restricted. You must have access to it and be authenticated to access it. Please log in. - silently ignoring the lookup for the file config.json in meta-llama/Meta-Llama-3.1-8B-Instruct.\n  warnings.warn(\n/opt/conda/lib/python3.10/site-packages/peft/utils/save_and_load.py:246: UserWarning: Could not find a config file in meta-llama/Meta-Llama-3.1-8B-Instruct - will assume that the vocabulary was not modified.\n  warnings.warn(\n/opt/conda/lib/python3.10/site-packages/peft/utils/other.py:716: UserWarning: Unable to fetch remote file due to the following error 401 Client Error. (Request ID: Root=1-67d49c53-4d51d94b4678e1cf0ddbade3;ba38c335-6278-4b2a-bbd4-5b46e7066e60)\n\nCannot access gated repo for url https://huggingface.co/meta-llama/Meta-Llama-3.1-8B-Instruct/resolve/main/config.json.\nAccess to model meta-llama/Llama-3.1-8B-Instruct is restricted. You must have access to it and be authenticated to access it. Please log in. - silently ignoring the lookup for the file config.json in meta-llama/Meta-Llama-3.1-8B-Instruct.\n  warnings.warn(\n/opt/conda/lib/python3.10/site-packages/peft/utils/save_and_load.py:246: UserWarning: Could not find a config file in meta-llama/Meta-Llama-3.1-8B-Instruct - will assume that the vocabulary was not modified.\n  warnings.warn(\n",
          "output_type": "stream"
        },
        {
          "execution_count": 36,
          "output_type": "execute_result",
          "data": {
            "text/plain": "{'train_runtime': 13136.6128,\n 'train_samples_per_second': 0.463,\n 'train_steps_per_second': 0.058,\n 'total_flos': 3.721536001376256e+16,\n 'train_loss': 0.5075661207500257,\n 'epoch': 1.0}"
          },
          "metadata": {}
        }
      ],
      "execution_count": null
    },
    {
      "cell_type": "code",
      "source": [
        "y_pred_pr = trainer.predict(tokenized_datasets[\"valid\"])\n",
        "y_pred = np.argmax(y_pred_pr.predictions, axis = 1)"
      ],
      "metadata": {
        "trusted": true,
        "execution": {
          "iopub.status.busy": "2025-03-14T21:15:18.060453Z",
          "iopub.execute_input": "2025-03-14T21:15:18.060798Z",
          "iopub.status.idle": "2025-03-14T21:33:05.289313Z",
          "shell.execute_reply.started": "2025-03-14T21:15:18.060768Z",
          "shell.execute_reply": "2025-03-14T21:33:05.288564Z"
        },
        "id": "PW3kJjl3n8gf",
        "outputId": "c639d360-87b8-406a-d8db-40877d4d4d36"
      },
      "outputs": [
        {
          "output_type": "display_data",
          "data": {
            "text/plain": "<IPython.core.display.HTML object>",
            "text/html": ""
          },
          "metadata": {}
        }
      ],
      "execution_count": null
    },
    {
      "cell_type": "code",
      "source": [
        "accuracy_score(y_true, y_pred)"
      ],
      "metadata": {
        "trusted": true,
        "execution": {
          "iopub.status.busy": "2025-03-14T21:33:19.592363Z",
          "iopub.execute_input": "2025-03-14T21:33:19.592710Z",
          "iopub.status.idle": "2025-03-14T21:33:19.599754Z",
          "shell.execute_reply.started": "2025-03-14T21:33:19.592680Z",
          "shell.execute_reply": "2025-03-14T21:33:19.598926Z"
        },
        "id": "2LqgMqMsn8gf",
        "outputId": "910bef44-8857-43cf-96b4-8aca847ae2ee"
      },
      "outputs": [
        {
          "execution_count": 39,
          "output_type": "execute_result",
          "data": {
            "text/plain": "0.8947368421052632"
          },
          "metadata": {}
        }
      ],
      "execution_count": null
    },
    {
      "cell_type": "code",
      "source": [
        "f1_score(y_true, y_pred,average='weighted')"
      ],
      "metadata": {
        "trusted": true,
        "execution": {
          "iopub.status.busy": "2025-03-14T21:33:39.247156Z",
          "iopub.execute_input": "2025-03-14T21:33:39.248063Z",
          "iopub.status.idle": "2025-03-14T21:33:39.259262Z",
          "shell.execute_reply.started": "2025-03-14T21:33:39.248014Z",
          "shell.execute_reply": "2025-03-14T21:33:39.258172Z"
        },
        "id": "vy50DmQ4n8gf",
        "outputId": "6b2044ff-8079-4493-921b-a365783abcb8"
      },
      "outputs": [
        {
          "execution_count": 41,
          "output_type": "execute_result",
          "data": {
            "text/plain": "0.8946224430248619"
          },
          "metadata": {}
        }
      ],
      "execution_count": null
    },
    {
      "cell_type": "code",
      "source": [
        "report = classification_report(y_true, y_pred, output_dict=True)\n",
        "\n",
        "\n",
        "report_df = pd.DataFrame(report).transpose()\n",
        "\n",
        "\n",
        "print(report_df)"
      ],
      "metadata": {
        "trusted": true,
        "execution": {
          "iopub.status.busy": "2025-03-14T21:34:57.808331Z",
          "iopub.execute_input": "2025-03-14T21:34:57.808712Z",
          "iopub.status.idle": "2025-03-14T21:34:57.828727Z",
          "shell.execute_reply.started": "2025-03-14T21:34:57.808679Z",
          "shell.execute_reply": "2025-03-14T21:34:57.827817Z"
        },
        "id": "-dJ8yqf_n8gf",
        "outputId": "2d9c944f-f9ed-4085-f03b-a969d99328f4"
      },
      "outputs": [
        {
          "name": "stdout",
          "text": "              precision    recall  f1-score      support\n0              0.878613  0.922610  0.900074   659.000000\n1              0.929260  0.852507  0.889231   339.000000\n2              0.895551  0.886973  0.891242   522.000000\naccuracy       0.894737  0.894737  0.894737     0.894737\nmacro avg      0.901141  0.887364  0.893515  1520.000000\nweighted avg   0.895726  0.894737  0.894622  1520.000000\n",
          "output_type": "stream"
        }
      ],
      "execution_count": null
    },
    {
      "cell_type": "markdown",
      "source": [
        "# Conclusion"
      ],
      "metadata": {
        "id": "qnrm2eaqrzVv"
      }
    },
    {
      "cell_type": "markdown",
      "source": [
        "The project showcases the potential of large language models, like Llama 3.1, in tackling ticket classification tasks. It builds on a previous project, where deep learning models were employed, and demonstrates how LLMs can improve performance even with a smaller portion of the dataset. While the model's results are based on limited data, the achieved accuracy and F1 score of 0.8947 and 0.8946 respectively suggest the model’s strong potential. With more data and resources, it is expected that the performance would further improve, solidifying the practical application of LLMs for text classification. This project illustrates the ability to work with advanced AI technologies and adapt to the evolving landscape of natural language processing."
      ],
      "metadata": {
        "id": "UAmhpkjDr0wf"
      }
    },
    {
      "cell_type": "code",
      "source": [],
      "metadata": {
        "id": "YjNB0s5Rr0R2"
      },
      "execution_count": null,
      "outputs": []
    }
  ]
}